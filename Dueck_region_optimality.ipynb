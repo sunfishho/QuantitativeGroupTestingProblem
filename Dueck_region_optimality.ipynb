{
 "cells": [
  {
   "cell_type": "code",
   "execution_count": 19,
   "metadata": {},
   "outputs": [],
   "source": [
    "import numpy as np\n",
    "import math\n",
    "from itertools import product\n",
    "import random\n",
    "#computes the entropy of a probability distribution given a list of probabilities \"probabilities\"\n",
    "def H(probabilities):\n",
    "    sum = 0.0\n",
    "    for i in probabilities:\n",
    "        if (i <= 0):\n",
    "            sum += 0\n",
    "        else:\n",
    "            sum -= i * math.log2(i)\n",
    "    return sum"
   ]
  },
  {
   "cell_type": "code",
   "execution_count": 3,
   "metadata": {},
   "outputs": [],
   "source": [
    "#computes the objective function given numpy arrays p, a, b\n",
    "def loss(p, a, b):\n",
    "    n = len(np.atleast_1d(p))\n",
    "    sum = 0\n",
    "    for i in range(n):\n",
    "        sum += p[i] * (H([a[i], 1 - a[i]]) + H([b[i], 1 - b[i]]))\n",
    "    return sum"
   ]
  },
  {
   "cell_type": "code",
   "execution_count": 4,
   "metadata": {},
   "outputs": [],
   "source": [
    "def h(x):\n",
    "    return H([x, 1-x])"
   ]
  },
  {
   "cell_type": "code",
   "execution_count": 5,
   "metadata": {},
   "outputs": [],
   "source": [
    "def L(x):\n",
    "    return h(x) + 1 - x"
   ]
  },
  {
   "cell_type": "code",
   "execution_count": 6,
   "metadata": {},
   "outputs": [],
   "source": [
    "def LHS(p, a, b, c):\n",
    "    n = len(p)\n",
    "    sum = 0\n",
    "    for i in range(n):\n",
    "        sum += (p[i] * (a[i] * (1 - b[i]) + b[i] * (1 - a[i]) + 2 * c[i]))\n",
    "    if (sum < 0 or sum > 1):\n",
    "        return False\n",
    "    return L(sum)"
   ]
  },
  {
   "cell_type": "code",
   "execution_count": 7,
   "metadata": {},
   "outputs": [],
   "source": [
    "def RHS(p, a, b, c):\n",
    "    entropy_sum = 0\n",
    "    n = len(p)\n",
    "#     print(a)\n",
    "#     print(b)\n",
    "#     print(c)\n",
    "    for i in range(n):\n",
    "        if ((a[i] * b[i] - c[i]) < 0 or (a[i] * (1 - b[i]) + c[i]) < 0 or (b[i] * (1 - a[i]) + c[i]) < 0 or ((1 - a[i]) * (1 - b[i]) + c[i]) < 0):\n",
    "            return False\n",
    "\n",
    "    for i in range(n):\n",
    "        entropy = H([a[i] * b[i] - c[i], a[i] * (1 - b[i]) + c[i], (1 - a[i]) * b[i] + c[i], (1 - a[i]) * (1 - b[i]) - c[i]])\n",
    "        entropy_sum += p[i] * entropy\n",
    "    return entropy_sum"
   ]
  },
  {
   "cell_type": "code",
   "execution_count": 8,
   "metadata": {},
   "outputs": [],
   "source": [
    "def LHS_minus_RHS(p, a, b, c):\n",
    "    if (LHS(p,a,b,c) == False or RHS(p,a,b,c) == False):\n",
    "        return False\n",
    "    return LHS(p, a, b, c) - RHS(p, a, b, c)"
   ]
  },
  {
   "cell_type": "code",
   "execution_count": 9,
   "metadata": {},
   "outputs": [],
   "source": [
    "def worst_c(p, a, b, alpha, iterations):\n",
    "    n = len(p)\n",
    "    c = np.zeros(n, dtype = float)\n",
    "    prevc = np.zeros(n, dtype = float)\n",
    "    for i in range(iterations):\n",
    "        prevc[:] = c\n",
    "        for j in range(n):\n",
    "            cplus = list(c)\n",
    "            cplus[j] += 0.0001\n",
    "            cminus = list(c)\n",
    "            cminus[j] -=  0.0001\n",
    "            dxdc = (LHS_minus_RHS(p, a, b, cplus) - LHS_minus_RHS(p, a, b, cminus))/.0002\n",
    "            c[j] -= dxdc * alpha\n",
    "        for j in range(n):\n",
    "            if (a[j] * b[j] - c[j] < 0 or a[j] * (1 - b[j]) + c[j] < 0 or b[j] * (1 - a[j]) + c[j] < 0 or (1 - a[j]) * (1 - b[j]) + c[j] < 0):\n",
    "                c[:] = prevc\n",
    "                return c\n",
    "    return c"
   ]
  },
  {
   "cell_type": "code",
   "execution_count": 10,
   "metadata": {},
   "outputs": [],
   "source": [
    "def L_minus_sum_RHS(p, a, b, alpha, iterations):\n",
    "    c = worst_c(p, a, b, alpha, iterations)\n",
    "    return LHS(p, a, b, c) - RHS(p, a, b, c)"
   ]
  },
  {
   "cell_type": "code",
   "execution_count": 21,
   "metadata": {},
   "outputs": [
    {
     "name": "stdout",
     "output_type": "stream",
     "text": [
      "0 -1 [0] [0]\n",
      "10000000 0.5217907904588079 [0.4917] [0.0999]\n",
      "20000000 0.7350866965946008 [0.2799] [0.1999]\n",
      "30000000 0.8623332979063936 [0.1859] [0.2999]\n",
      "40000000 0.9305527442501372 [0.1337] [0.3999]\n",
      "50000000 0.9470329265310393 [0.1037] [0.4801]\n",
      "60000000 0.9470329265310393 [0.1037] [0.4801]\n",
      "70000000 0.9470329265310393 [0.1037] [0.4801]\n",
      "80000000 0.9470329265310393 [0.1037] [0.4801]\n",
      "90000000 0.9470329265310393 [0.1037] [0.4801]\n",
      "(0.9470329265310393, [0.1037], [0.4801])\n",
      "CPU times: user 1h 13min 17s, sys: 12.4 s, total: 1h 13min 29s\n",
      "Wall time: 1h 13min 39s\n"
     ]
    }
   ],
   "source": [
    "%%time\n",
    "#n = 1\n",
    "\n",
    "\n",
    "def grid_search_U_val(u_val):\n",
    "    optimal_rate = -1\n",
    "    abest = [0]\n",
    "    bbest = [0]\n",
    "    counter = 0\n",
    "    for i in range(100000000):\n",
    "        if i % 10000000 == 0:\n",
    "            print(i, optimal_rate, abest, bbest)\n",
    "        a1 = (i % 10000)/10000\n",
    "        b1 = (i // 10000)/10000\n",
    "        if a1 == 0.5 or b1 == 0.5 or a1 + b1 == 1:\n",
    "            continue\n",
    "        a = [a1]\n",
    "        b = [b1]\n",
    "        X = binarySearchX([1], a, b, 30)\n",
    "        c = find_c_dim_one(X, a[0], b[0])\n",
    "        if LHS_minus_RHS([1], a, b, [c]) < -0.0001 or not LHS_minus_RHS([1], a, b, [c]):\n",
    "            continue\n",
    "        counter += 1\n",
    "        rate = u_val * h(a1) + (1 - u_val) * h(b1)\n",
    "        if rate > optimal_rate:\n",
    "            optimal_rate = rate\n",
    "            abest = a\n",
    "            bbest = b\n",
    "    return (optimal_rate, abest, bbest)\n",
    "\n",
    "print(grid_search_U_val(0.1))\n",
    "        "
   ]
  },
  {
   "cell_type": "code",
   "execution_count": 26,
   "metadata": {},
   "outputs": [
    {
     "name": "stdout",
     "output_type": "stream",
     "text": [
      "0 -1 [0] [0]\n",
      "10000000 0.5749030600019637 [0.4917] [0.0999]\n",
      "20000000 0.7484453433916964 [0.2799] [0.1999]\n",
      "30000000 0.8434979701762917 [0.1859] [0.2999]\n",
      "40000000 0.8902204561049427 [0.1338] [0.3998]\n",
      "50000000 0.8967352870262564 [0.1126] [0.4544]\n",
      "60000000 0.8967352870262564 [0.1126] [0.4544]\n",
      "70000000 0.8967352870262564 [0.1126] [0.4544]\n",
      "80000000 0.8967352870262564 [0.1126] [0.4544]\n",
      "90000000 0.8967352870262564 [0.1126] [0.4544]\n",
      "(0.8967352870262564, [0.1126], [0.4544])\n"
     ]
    }
   ],
   "source": [
    "print(grid_search_U_val(0.2))"
   ]
  },
  {
   "cell_type": "code",
   "execution_count": 28,
   "metadata": {},
   "outputs": [
    {
     "name": "stdout",
     "output_type": "stream",
     "text": [
      "0 -1 [0] [0]\n",
      "10000000 0.6280153295451192 [0.4917] [0.0999]\n",
      "20000000 0.761803990188792 [0.2799] [0.1999]\n",
      "30000000 0.8246626424461895 [0.1859] [0.2999]\n",
      "40000000 0.8499139432957865 [0.1338] [0.3998]\n",
      "50000000 0.8505517754027353 [0.1263] [0.4181]\n",
      "60000000 0.8505517754027353 [0.1263] [0.4181]\n",
      "70000000 0.8505517754027353 [0.1263] [0.4181]\n",
      "80000000 0.8505517754027353 [0.1263] [0.4181]\n",
      "90000000 0.8505517754027353 [0.1263] [0.4181]\n",
      "(0.8505517754027353, [0.1263], [0.4181])\n"
     ]
    }
   ],
   "source": [
    "print(grid_search_U_val(0.3))"
   ]
  },
  {
   "cell_type": "code",
   "execution_count": null,
   "metadata": {},
   "outputs": [],
   "source": [
    "X = binarySearchX([1], abest, bbest, 30)\n",
    "c = find_c_dim_one(X, abest[0], bbest[0])\n",
    "print(c)"
   ]
  },
  {
   "cell_type": "code",
   "execution_count": null,
   "metadata": {},
   "outputs": [],
   "source": [
    "worst_c([1], abest, bbest, 0.01, 1000)"
   ]
  },
  {
   "cell_type": "code",
   "execution_count": null,
   "metadata": {},
   "outputs": [],
   "source": [
    "a1 = 0.625\n",
    "b1 = 0.375\n",
    "X = binarySearchX([1], [a1], [b1], 30)\n",
    "c = find_c_dim_one(X, a1, b1)\n",
    "LHS_minus_RHS([1], [a1], [b1], [c])"
   ]
  },
  {
   "cell_type": "code",
   "execution_count": 25,
   "metadata": {},
   "outputs": [
    {
     "name": "stdout",
     "output_type": "stream",
     "text": [
      "0 -1 [0, 0] [0, 0]\n",
      "10000000 0.9469267569534705 [0.9, 0.752] [0.517, 0.518]\n",
      "20000000 0.9469267569534705 [0.9, 0.752] [0.517, 0.518]\n",
      "30000000 0.9469267569534705 [0.9, 0.752] [0.517, 0.518]\n",
      "40000000 0.9469267569534705 [0.9, 0.752] [0.517, 0.518]\n",
      "50000000 0.9469267569534705 [0.9, 0.752] [0.517, 0.518]\n",
      "60000000 0.9469267569534705 [0.9, 0.752] [0.517, 0.518]\n",
      "70000000 0.9469267569534705 [0.9, 0.752] [0.517, 0.518]\n",
      "80000000 0.9469429153202701 [0.104, 0.027] [0.483, 0.452]\n",
      "90000000 0.9469583641882975 [0.132, 0.914] [0.477, 0.519]\n",
      "0.9469583641882975\n",
      "CPU times: user 2h 14min, sys: 17.9 s, total: 2h 14min 18s\n",
      "Wall time: 2h 16min 15s\n"
     ]
    }
   ],
   "source": [
    "%%time\n",
    "#n = 2\n",
    "\n",
    "u_val = 0.1\n",
    "\n",
    "\n",
    "def random_search_u_val(u_val):\n",
    "    optimal_rate = -1\n",
    "    abest = [0,0]\n",
    "    bbest = [0,0]\n",
    "    pbest = 0\n",
    "    for i in range(100000000):\n",
    "        if i % 10000000 == 0:\n",
    "            print(i, optimal_rate, abest, bbest)\n",
    "        a1 = random.randint(1, 999)/1000\n",
    "        a2 = random.randint(1, 999)/1000\n",
    "        b1 = random.randint(1, 999)/1000\n",
    "        b2 = random.randint(1, 999)/1000\n",
    "        p = random.randint(1, 999)/1000\n",
    "        a = [a1, a2]\n",
    "        b = [b1, b2]\n",
    "        if a1 == 0.5 or b1 == 0.5 or a1 + b1 == 1 or a2 == 0.5 or b2 == 0.5 or a2 + b2 == 1:\n",
    "            continue\n",
    "        X = binarySearchX([p, 1 - p], a, b, 30)\n",
    "        c = [find_c_dim_one(X, a[0], b[0]), find_c_dim_one(X, a[1], b[1])]\n",
    "        if LHS_minus_RHS([p, 1 - p], a, b, c) < -0.0001 or not LHS_minus_RHS([p, 1 - p], a, b, c):\n",
    "            continue\n",
    "        rate = p * (u_val * h(a1) + (1 - u_val) * h(b1)) + (1 - p) * (u_val * h(a2) + (1 - u_val) * h(b2))\n",
    "        if rate > optimal_rate:\n",
    "            optimal_rate = rate\n",
    "            abest =  a\n",
    "            bbest = b\n",
    "            pbest = p\n",
    "    return (optimal_rate)\n",
    "\n",
    "print(random_search_u_val(0.1))"
   ]
  },
  {
   "cell_type": "code",
   "execution_count": 33,
   "metadata": {},
   "outputs": [
    {
     "name": "stdout",
     "output_type": "stream",
     "text": [
      "0.10899999999999999\n",
      "0.479\n"
     ]
    }
   ],
   "source": [
    "print((0.132 + (1 - 0.914))/2)\n",
    "print((0.477 + (1 - 0.519))/2)"
   ]
  },
  {
   "cell_type": "code",
   "execution_count": 27,
   "metadata": {},
   "outputs": [
    {
     "name": "stdout",
     "output_type": "stream",
     "text": [
      "0 -1 [0, 0] [0, 0]\n",
      "10000000 0.8964765230942042 [0.114, 0.231] [0.447, 0.434]\n",
      "20000000 0.8965033582478726 [0.078, 0.883] [0.444, 0.537]\n",
      "30000000 0.8965728942972436 [0.891, 0.833] [0.541, 0.555]\n",
      "40000000 0.8966015470064223 [0.907, 0.875] [0.549, 0.545]\n",
      "50000000 0.8966063659558093 [0.121, 0.077] [0.461, 0.445]\n",
      "60000000 0.8966063659558093 [0.121, 0.077] [0.461, 0.445]\n",
      "70000000 0.8966063659558093 [0.121, 0.077] [0.461, 0.445]\n",
      "80000000 0.8966497932752797 [0.884, 0.908] [0.552, 0.547]\n",
      "90000000 0.8966497932752797 [0.884, 0.908] [0.552, 0.547]\n",
      "0.8966497932752797\n"
     ]
    }
   ],
   "source": [
    "print(random_search_u_val(0.2))"
   ]
  },
  {
   "cell_type": "code",
   "execution_count": 34,
   "metadata": {},
   "outputs": [
    {
     "name": "stdout",
     "output_type": "stream",
     "text": [
      "0.896\n",
      "0.5495000000000001\n"
     ]
    }
   ],
   "source": [
    "print((0.884 + 0.908)/2)\n",
    "print((0.552 + 0.547)/2)"
   ]
  },
  {
   "cell_type": "code",
   "execution_count": 29,
   "metadata": {},
   "outputs": [
    {
     "name": "stdout",
     "output_type": "stream",
     "text": [
      "0 -1 [0, 0] [0, 0]\n",
      "10000000 0.8503286281510652 [0.756, 0.877] [0.501, 0.58]\n",
      "20000000 0.8504463280519458 [0.107, 0.871] [0.425, 0.588]\n",
      "30000000 0.8504463280519458 [0.107, 0.871] [0.425, 0.588]\n",
      "40000000 0.8504774347137134 [0.126, 0.875] [0.51, 0.579]\n",
      "50000000 0.8504774347137134 [0.126, 0.875] [0.51, 0.579]\n",
      "60000000 0.8505206113307254 [0.873, 0.37] [0.584, 0.359]\n",
      "70000000 0.8505206113307254 [0.873, 0.37] [0.584, 0.359]\n",
      "80000000 0.8505206113307254 [0.873, 0.37] [0.584, 0.359]\n",
      "90000000 0.8505206113307254 [0.873, 0.37] [0.584, 0.359]\n",
      "0.8505206113307254\n"
     ]
    }
   ],
   "source": [
    "print(random_search_u_val(0.3))"
   ]
  },
  {
   "cell_type": "code",
   "execution_count": 35,
   "metadata": {},
   "outputs": [
    {
     "name": "stdout",
     "output_type": "stream",
     "text": [
      "0.2485\n",
      "0.567\n"
     ]
    }
   ],
   "source": [
    "print((0.37 + (1 - 0.873))/2)\n",
    "print((0.359 + (1 - 0.584)/2))"
   ]
  },
  {
   "cell_type": "code",
   "execution_count": 12,
   "metadata": {},
   "outputs": [],
   "source": [
    "def find_c_dim_one(x,a,b):\n",
    "    p1 = 2*a*b-a-b-k(x)\n",
    "    p2 = k(x)**2 + 2*(a+b-2*a*b)*k(x)+(a-b)**2\n",
    "    if p2<0:\n",
    "        return 0\n",
    "    if x<1/3:\n",
    "        return (p1+p2**.5)/2\n",
    "    return (p1-p2**.5)/2\n",
    "\n",
    "def k(x):\n",
    "    return -4*x**2/((3*x-1)*(x+1))\n",
    "\n",
    "def f3(x,p,a,b):\n",
    "    s = 0\n",
    "    for i in range(len(p)):\n",
    "        s+=p[i]*(a[i]*(1-b[i])+(1-a[i])*b[i]+2*find_c_dim_one(x,a[i],b[i]))\n",
    "    return s-x\n",
    "\n",
    "def binarySearchX(p,a,b,steps):\n",
    "    checking = 1/2\n",
    "    stepSize = 1/4\n",
    "    for i in range(steps):\n",
    "        if f3(checking,p,a,b)>0:\n",
    "            checking = checking+stepSize\n",
    "        else:\n",
    "            checking = checking-stepSize\n",
    "        stepSize=stepSize/2\n",
    "    return checking"
   ]
  },
  {
   "cell_type": "code",
   "execution_count": null,
   "metadata": {},
   "outputs": [],
   "source": []
  }
 ],
 "metadata": {
  "kernelspec": {
   "display_name": "Python 3 (ipykernel)",
   "language": "python",
   "name": "python3"
  },
  "language_info": {
   "codemirror_mode": {
    "name": "ipython",
    "version": 3
   },
   "file_extension": ".py",
   "mimetype": "text/x-python",
   "name": "python",
   "nbconvert_exporter": "python",
   "pygments_lexer": "ipython3",
   "version": "3.9.7"
  }
 },
 "nbformat": 4,
 "nbformat_minor": 4
}
