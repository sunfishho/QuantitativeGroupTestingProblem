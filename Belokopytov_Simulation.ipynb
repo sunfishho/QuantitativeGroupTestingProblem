{
 "cells": [
  {
   "cell_type": "code",
   "execution_count": 1,
   "metadata": {},
   "outputs": [],
   "source": [
    "import numpy as np\n",
    "from scipy.optimize import minimize\n",
    "import math\n",
    "from itertools import product\n",
    "#computes the entropy of a probability distribution given a list of probabilities \"probabilities\"\n",
    "def H(probabilities):\n",
    "    sum = 0.0\n",
    "    for i in probabilities:\n",
    "        if (i <= 0):\n",
    "            sum += 0\n",
    "        else:\n",
    "            sum -= i * math.log2(i)\n",
    "    return sum"
   ]
  },
  {
   "cell_type": "code",
   "execution_count": 2,
   "metadata": {},
   "outputs": [
    {
     "data": {
      "text/plain": [
       "0.4689955935892812"
      ]
     },
     "execution_count": 2,
     "metadata": {},
     "output_type": "execute_result"
    }
   ],
   "source": [
    "H([0.1, 0.9])"
   ]
  },
  {
   "cell_type": "code",
   "execution_count": 3,
   "metadata": {},
   "outputs": [],
   "source": [
    "#computes the objective function given numpy arrays p, a, b\n",
    "def loss(p, a, b):\n",
    "    n = len(np.atleast_1d(p))\n",
    "    sum = 0\n",
    "    for i in range(n):\n",
    "        sum += p[i] * (H([a[i], 1 - a[i]]) + H([b[i], 1 - b[i]]))\n",
    "    return sum"
   ]
  },
  {
   "cell_type": "code",
   "execution_count": 4,
   "metadata": {},
   "outputs": [],
   "source": [
    "def h(x):\n",
    "    return H([x, 1-x])"
   ]
  },
  {
   "cell_type": "code",
   "execution_count": 5,
   "metadata": {},
   "outputs": [
    {
     "data": {
      "text/plain": [
       "0.4689955935892812"
      ]
     },
     "execution_count": 5,
     "metadata": {},
     "output_type": "execute_result"
    }
   ],
   "source": [
    "h(0.1)"
   ]
  },
  {
   "cell_type": "code",
   "execution_count": 6,
   "metadata": {},
   "outputs": [],
   "source": [
    "def L(x):\n",
    "    return h(x) + 1 - x"
   ]
  },
  {
   "cell_type": "code",
   "execution_count": 7,
   "metadata": {},
   "outputs": [],
   "source": [
    "# This computes the left hand side of the inequality in the conditions, given numpy arrays p, a, b, c (outdated)\n",
    "def oldLHS(p, a, b, c):\n",
    "    n = len(np.atleast_1d(p))\n",
    "    sum1 = 0\n",
    "    sum2 = 0\n",
    "    sum3 = 0\n",
    "    for i in range(n):\n",
    "        sum1 += p[i] * (a[i] * b[i] - c[i])\n",
    "        sum2 += p[i] * (a[i] * (1 - b[i]) + (1 - a[i]) * b[i] + 2 * c[i])\n",
    "        sum3 += p[i] * ((1 - a[i]) * (1 - b[i]) - c[i])\n",
    "    return H([sum1, sum2, sum3])"
   ]
  },
  {
   "cell_type": "code",
   "execution_count": 8,
   "metadata": {},
   "outputs": [],
   "source": [
    "def LHS(p, a, b, c):\n",
    "    n = len(p)\n",
    "    sum = 0\n",
    "    for i in range(n):\n",
    "        sum += (p[i] * (a[i] * (1 - b[i]) + b[i] * (1 - a[i]) + 2 * c[i]))\n",
    "    if (sum < 0 or sum > 1):\n",
    "        return False\n",
    "    return L(sum)"
   ]
  },
  {
   "cell_type": "code",
   "execution_count": 9,
   "metadata": {},
   "outputs": [],
   "source": [
    "# This computes the right hand side of the inequality in the conditions, given numpy arrays p, a, b, c\n",
    "\n",
    "def RHS(p, a, b, c):\n",
    "    entropy_sum = 0\n",
    "    n = len(p)\n",
    "#     print(a)\n",
    "#     print(b)\n",
    "#     print(c)\n",
    "    for i in range(n):\n",
    "        if ((a[i] * b[i] - c[i]) < 0 or (a[i] * (1 - b[i]) + c[i]) < 0 or (b[i] * (1 - a[i]) + c[i]) < 0 or ((1 - a[i]) * (1 - b[i]) + c[i]) < 0):\n",
    "            return False\n",
    "\n",
    "    for i in range(n):\n",
    "        entropy = H([a[i] * b[i] - c[i], a[i] * (1 - b[i]) + c[i], (1 - a[i]) * b[i] + c[i], (1 - a[i]) * (1 - b[i]) - c[i]])\n",
    "        entropy_sum += p[i] * entropy\n",
    "    return entropy_sum"
   ]
  },
  {
   "cell_type": "code",
   "execution_count": null,
   "metadata": {},
   "outputs": [],
   "source": []
  },
  {
   "cell_type": "code",
   "execution_count": 10,
   "metadata": {},
   "outputs": [],
   "source": [
    "# This computes quantity to minimize for each value of c, given numpy arrays p, a, b, c\n",
    "\n",
    "def LHS_minus_RHS(p, a, b, c):\n",
    "    if (LHS(p,a,b,c) == False or RHS(p,a,b,c) == False):\n",
    "        return False\n",
    "    return LHS(p, a, b, c) - RHS(p, a, b, c)"
   ]
  },
  {
   "cell_type": "code",
   "execution_count": 143,
   "metadata": {},
   "outputs": [],
   "source": [
    "#Uses gradient descent to find the worst values of c possible\n",
    "\n",
    "def worst_c(p, a, b, alpha, iterations):\n",
    "    n = len(p)\n",
    "    c = np.zeros(n, dtype = float)\n",
    "    prevc = np.zeros(n, dtype = float)\n",
    "    for i in range(iterations):\n",
    "        prevc[:] = c\n",
    "        for j in range(n):\n",
    "            cplus = list(c)\n",
    "            cplus[j] += 0.0001\n",
    "            cminus = list(c)\n",
    "            cminus[j] -=  0.0001\n",
    "            dxdc = (LHS_minus_RHS(p, a, b, cplus) - LHS_minus_RHS(p, a, b, cminus))/.0002\n",
    "            c[j] -= dxdc * alpha\n",
    "        for j in range(n):\n",
    "            if (a[j] * b[j] - c[j] < 0 or a[j] * (1 - b[j]) + c[j] < 0 or b[j] * (1 - a[j]) + c[j] < 0 or (1 - a[j]) * (1 - b[j]) + c[j] < 0):\n",
    "                c[:] = prevc\n",
    "                return c\n",
    "    return c"
   ]
  },
  {
   "cell_type": "code",
   "execution_count": null,
   "metadata": {},
   "outputs": [],
   "source": [
    "\n",
    "    "
   ]
  },
  {
   "cell_type": "code",
   "execution_count": 12,
   "metadata": {},
   "outputs": [],
   "source": [
    "def star(p,a,b,c):\n",
    "    n = len(np.atleast_1d(p))\n",
    "    sum = 0\n",
    "    for i in range(n):\n",
    "        sum += (p[i] * (a[i] * (1 - b[i]) + b[i] * (1 - a[i]) + 2 * c[i]))\n",
    "    if (sum < 0 or sum > 1):\n",
    "        return False\n",
    "    return sum\n",
    "#LHS of the partial derivative expression\n",
    "def delL(p,a,b,c):\n",
    "    s = star(p,a,b,c)\n",
    "    return ((1-s)/(2*s))**2\n",
    "\n",
    "def solve_quad(a,b,c, low, high):\n",
    "    s1 = (-1*b + (b**2-4*a*c)**.5)/(2*a)\n",
    "    s2 = (-1*b - (b**2-4*a*c)**.5)/(2*a)\n",
    "    if s1>=low and s1<=high:\n",
    "        return s1\n",
    "    if s2>=low and s2<=high:\n",
    "        return s2\n",
    "    return False\n",
    "\n",
    "#finds worse c by solving for where partial derivative = 0 given old LHS\n",
    "def update_c(s,pi,ai,bi):\n",
    "    w = (1-ai)*bi\n",
    "    x = ai * (1-bi)\n",
    "    y = ai*bi\n",
    "    z = (1-ai)*(1-bi)\n",
    "    quad = s-1\n",
    "    lin = s*w+s*x+y+z\n",
    "    con = s*w*x - y*z\n",
    "    return solve_quad(quad,lin,con, low = 0, high = 1)\n",
    "def worse_c(p,a,b,c):\n",
    "    s = delL(p,a,b,c)\n",
    "    n = len(np.atleast_1d(p))\n",
    "    c2 = np.zeros(n, dtype = float)\n",
    "    for i in range(n):\n",
    "        u = update_c(s,p[i],a[i],b[i])\n",
    "        if u>=0 and u<=1:\n",
    "            c2[i]=u\n",
    "        else:\n",
    "            c2[i]=c[i]\n",
    "    return c2"
   ]
  },
  {
   "cell_type": "code",
   "execution_count": 13,
   "metadata": {},
   "outputs": [
    {
     "name": "stdout",
     "output_type": "stream",
     "text": [
      "[0.01538219 0.01538219]\n",
      "-8.51226210163425e-06\n"
     ]
    }
   ],
   "source": [
    "a = np.array((0.23684, 0.23684, 0.23684))\n",
    "b = np.array((0.23684, 0.23684, 0.23684))\n",
    "c = np.array((0, 0, 0))\n",
    "p = np.array((0.2, 0.8))\n",
    "#starting at 0 vector and iterating a bunch could give the worst c vector\n",
    "for i in range(100):\n",
    "    c=worse_c(p,a,b,c)\n",
    "print(c)\n",
    "print(LHS_minus_RHS(p,a,b,c))"
   ]
  },
  {
   "cell_type": "code",
   "execution_count": 14,
   "metadata": {},
   "outputs": [],
   "source": [
    "def check_c(p, a, b, c):\n",
    "    n = len(np.atleast_1d(p))\n",
    "    sum = 0\n",
    "    for i in range(n):\n",
    "        sum += p[i]*(a[i]*(1 - b[i]) + b[i]*(1 - a[i]) + 2*c[i])\n",
    "    return sum"
   ]
  },
  {
   "cell_type": "code",
   "execution_count": 15,
   "metadata": {},
   "outputs": [],
   "source": [
    "\n",
    "def analytic_worst_c(p, a, b):\n",
    "    n = len(p)\n",
    "    c_worst = 0\n",
    "    mindistance = 10000\n",
    "    for x in  np.linspace(0.001, 1, num = 1000):\n",
    "        c = []\n",
    "        y = math.pow((1 - x)/(2 * x),2)\n",
    "        #consider a quadratic equation pc^2+qc+r=0\n",
    "        for i in range(n):\n",
    "            pp = y - 1\n",
    "            qq = 2*a[i]*b[i] - 2*a[i]*b[i]*y + a[i]*y + b[i]*y - a[i] - b[i] + 1\n",
    "            rr = a[i]*a[i]*b[i]*b[i]*y - a[i]*a[i]*b[i]*b[i] - a[i]*a[i]*b[i]*y - a[i]*b[i]*b[i]*y + a[i]*a[i]*b[i] + a[i]*b[i]*b[i] + a[i]*b[i]*y - a[i]*b[i]\n",
    "            if (solve_quad(pp, qq, rr, low = -0.25, high = 0.25) != False):\n",
    "                #be careful, maybe the second root works. Need to check this never actually happens\n",
    "                c.append(solve_quad(pp, qq, rr, low = -0.25, high = 0.25))\n",
    "        if (len(c) != 3):\n",
    "            continue\n",
    "        if (abs(check_c(p, a, b, c) - x) < mindistance):\n",
    "            mindistance = abs(check_c(p, a, b, c) - x)\n",
    "            c_worst = c\n",
    "    return c_worst\n",
    "\n",
    "                \n",
    "        \n",
    "    "
   ]
  },
  {
   "cell_type": "code",
   "execution_count": 16,
   "metadata": {},
   "outputs": [
    {
     "name": "stdout",
     "output_type": "stream",
     "text": [
      "[0.05992222 0.04708042 0.09645359]\n",
      "[0.05987266851545786, 0.04704648365461646, 0.09635100276050969]\n"
     ]
    }
   ],
   "source": [
    "p = np.array((0.3, 0.3, 0.4))\n",
    "a = np.array((0.2, 0.3, 0.7))\n",
    "b = np.array((0.4, 0.2, 0.5))\n",
    "print(worst_c(p, a, b, alpha = 0.001, iterations = 1000))\n",
    "print(analytic_worst_c(p, a, b))"
   ]
  },
  {
   "cell_type": "code",
   "execution_count": 17,
   "metadata": {},
   "outputs": [],
   "source": [
    "def bsearch(a, b, low = 0, high = 0.5, eps = 0.00001):\n",
    "    mid = (low + high)/2\n",
    "    if ((high-low)<eps):\n",
    "        return mid\n",
    "    if (2*h(mid) >= (h(a)+h(b))):\n",
    "        return bsearch(a, b, low, mid, eps)\n",
    "    else:\n",
    "        return bsearch(a, b, mid, high, eps)"
   ]
  },
  {
   "cell_type": "code",
   "execution_count": 18,
   "metadata": {},
   "outputs": [
    {
     "data": {
      "text/plain": [
       "0.2734947204589844"
      ]
     },
     "execution_count": 18,
     "metadata": {},
     "output_type": "execute_result"
    }
   ],
   "source": [
    "bsearch(0.2, 0.4)"
   ]
  },
  {
   "cell_type": "code",
   "execution_count": 19,
   "metadata": {},
   "outputs": [
    {
     "data": {
      "text/plain": [
       "1.692878689342031"
      ]
     },
     "execution_count": 19,
     "metadata": {},
     "output_type": "execute_result"
    }
   ],
   "source": [
    "h(0.2)+h(0.4)"
   ]
  },
  {
   "cell_type": "code",
   "execution_count": 20,
   "metadata": {},
   "outputs": [
    {
     "data": {
      "text/plain": [
       "1.6928674955011611"
      ]
     },
     "execution_count": 20,
     "metadata": {},
     "output_type": "execute_result"
    }
   ],
   "source": [
    "2*h(0.273494)"
   ]
  },
  {
   "cell_type": "code",
   "execution_count": 62,
   "metadata": {},
   "outputs": [],
   "source": [
    "def L_minus_sum_RHS(p, a, b):\n",
    "    c = worst_c(p, a, b, alpha = 0.001, iterations = 1000)\n",
    "    return LHS(p, a, b, c) - RHS(p, a, b, c)"
   ]
  },
  {
   "cell_type": "code",
   "execution_count": 104,
   "metadata": {},
   "outputs": [],
   "source": [
    "import random\n",
    "p = [0.3, 0.3, 0.4]\n",
    "mini = 100000\n",
    "for i in range(1000):\n",
    "    a1 = random.randint(1, 9999)/10000\n",
    "    a2 = random.randint(1, 9999)/10000\n",
    "    a3 = random.randint(1, 9999)/10000\n",
    "    b1 = random.randint(1, 9999)/10000\n",
    "    b2 = random.randint(1, 9999)/10000\n",
    "    b3 = random.randint(1, 9999)/10000\n",
    "    if (L_minus_sum_RHS(p,[a1,a2,a3],[b1,b2,b3])>L_minus_sum_RHS(p,[a1,a2,bsearch(a3,b3)],[b1,b2,bsearch(a3,b3)])):\n",
    "        mini = min(mini, L_minus_sum_RHS(p,[a1,a2,bsearch(a3,b3)],[b1,b2,bsearch(a3,b3)]))\n",
    "        break\n",
    "    "
   ]
  },
  {
   "cell_type": "code",
   "execution_count": null,
   "metadata": {},
   "outputs": [],
   "source": [
    "L_minus_sum_RHS(p,[a1,a2,a3],[b1,b2,b3])"
   ]
  },
  {
   "cell_type": "code",
   "execution_count": null,
   "metadata": {},
   "outputs": [],
   "source": [
    "L_minus_sum_RHS(p,[a1,a2,bsearch(a3,b3, eps = 0.0000000001)],[b1,b2,bsearch(a3,b3, eps = 0.00000001)])"
   ]
  },
  {
   "cell_type": "code",
   "execution_count": null,
   "metadata": {},
   "outputs": [],
   "source": [
    "print([a1,a2,a3])\n",
    "print([b1,b2,b3])\n",
    "print(bsearch(a3,b3))\n",
    "print(L_minus_sum_RHS(p,[a1,a2,a3],[b1,b2,b3]))\n",
    "print(L_minus_sum_RHS(p,[a1,a2,bsearch(a3,b3, eps = 0.0000000001)],[b1,b2,bsearch(a3,b3, eps = 0.00000001)]))"
   ]
  },
  {
   "cell_type": "code",
   "execution_count": 52,
   "metadata": {},
   "outputs": [],
   "source": [
    "def bsearch_optimal_obj(low = 0, high = 0.5, eps = 0.0000001):\n",
    "    mid = (low + high)/2\n",
    "    if ((high-low)<eps):\n",
    "        return[mid, 2*h(mid)]\n",
    "    if (L_minus_sum_RHS([1,0],[mid,mid],[mid,mid])>0):\n",
    "        return bsearch_optimal_obj(mid, high, eps)\n",
    "    else:\n",
    "        return bsearch_optimal_obj(low, mid, eps)"
   ]
  },
  {
   "cell_type": "code",
   "execution_count": 53,
   "metadata": {},
   "outputs": [
    {
     "name": "stdout",
     "output_type": "stream",
     "text": [
      "[0.23683777451515198, 1.579483886085085]\n"
     ]
    }
   ],
   "source": [
    "x = bsearch_optimal_obj()\n",
    "print(x)"
   ]
  },
  {
   "cell_type": "code",
   "execution_count": 54,
   "metadata": {},
   "outputs": [
    {
     "data": {
      "text/plain": [
       "3.376180324199396"
      ]
     },
     "execution_count": 54,
     "metadata": {},
     "output_type": "execute_result"
    }
   ],
   "source": [
    "(2 * h (x[0]+0.0000001) - 2 * h(x[0]))/0.0000001"
   ]
  },
  {
   "cell_type": "code",
   "execution_count": 55,
   "metadata": {},
   "outputs": [
    {
     "data": {
      "text/plain": [
       "-3.799937253745611"
      ]
     },
     "execution_count": 55,
     "metadata": {},
     "output_type": "execute_result"
    }
   ],
   "source": [
    "(L_minus_sum_RHS([0.5,0.5],[x[0]+0.0000001,x[0]+0.0000001],[x[0]+0.0000001,x[0]+0.0000001]) - L_minus_sum_RHS([0.5,0.5],[x[0],x[0]],[x[0],x[0]]))/0.0000001"
   ]
  },
  {
   "cell_type": "code",
   "execution_count": 56,
   "metadata": {},
   "outputs": [
    {
     "data": {
      "text/plain": [
       "0.8884831771554869"
      ]
     },
     "execution_count": 56,
     "metadata": {},
     "output_type": "execute_result"
    }
   ],
   "source": [
    "3.376180324199396/3.799937253745611"
   ]
  },
  {
   "cell_type": "code",
   "execution_count": 96,
   "metadata": {},
   "outputs": [
    {
     "name": "stdout",
     "output_type": "stream",
     "text": [
      "0\n",
      "Upper Bound:\n",
      "101\n",
      "Lower Bound:\n",
      "-1\n",
      "\n",
      "\n",
      "0.9738944281982432\n",
      "0.6661584912122981\n",
      "CPU times: user 39.5 s, sys: 140 ms, total: 39.7 s\n",
      "Wall time: 40 s\n"
     ]
    }
   ],
   "source": [
    "%%time\n",
    "import random\n",
    "p = [0.3, 0.3, 0.4]\n",
    "upper_bound = 101\n",
    "lower_bound = -1\n",
    "alowbest = [0,0,0]\n",
    "blowbest = [0,0,0]\n",
    "ahighbest = [0,0,0]\n",
    "bhighbest = [0,0,0]\n",
    "for i in range(100):\n",
    "    if i%100 == 0:\n",
    "        print(i)\n",
    "        print(\"Upper Bound:\")\n",
    "        print(upper_bound)\n",
    "#         print(alowbest)\n",
    "#         print(blowbest)\n",
    "#         print(loss(p,alowbest,blowbest))\n",
    "#         print(L_minus_sum_RHS(p,alowbest,blowbest))\n",
    "        print(\"Lower Bound:\")\n",
    "        print(lower_bound)\n",
    "#         print(ahighbest)\n",
    "#         print(bhighbest)\n",
    "#         print(loss(p,ahighbest,bhighbest))\n",
    "#         print(L_minus_sum_RHS(p,ahighbest,bhighbest))\n",
    "        print()\n",
    "        print()\n",
    "    a1 = random.randint(1, 99)/100\n",
    "    a2 = random.randint(1, 99)/100\n",
    "    a3 = random.randint(1, 99)/100\n",
    "    b1 = random.randint(1, 99)/100\n",
    "    b2 = random.randint(1, 99)/100\n",
    "    b3 = random.randint(1, 99)/100\n",
    "    a = [a1, a2, a3]\n",
    "    b = [b1, b2, b3]\n",
    "    x = L_minus_sum_RHS(p,a,b)\n",
    "    \n",
    "    if (abs(x) < 0.2):\n",
    "        continue\n",
    "    loss_here = loss(p,a,b)\n",
    "    if (x > 0):\n",
    "        if (upper_bound>(1.5795-loss_here)/x):\n",
    "            upper_bound = (1.5795-loss_here)/x\n",
    "            alowbest = a\n",
    "            blowbest = b\n",
    "    if (x < 0):\n",
    "        if (lower_bound < (1.5795-loss_here)/x):\n",
    "            lower_bound = (1.5795-loss_here)/x\n",
    "            ahighbest = a\n",
    "            bhighbest = b    \n",
    "print(upper_bound)\n",
    "print(lower_bound)\n",
    "        "
   ]
  },
  {
   "cell_type": "code",
   "execution_count": 95,
   "metadata": {},
   "outputs": [
    {
     "name": "stdout",
     "output_type": "stream",
     "text": [
      "0.6451018654873548\n",
      "[0.3, 0.3, 0.4]\n",
      "[0.12, 0.05, 0.7]\n",
      "[0.24, 0.29, 0.82]\n",
      "[-1.44039746e-04 -7.31799656e-05 -2.31631122e-04]\n"
     ]
    }
   ],
   "source": [
    "print(maxi)\n",
    "p = [0.3, 0.3, 0.4]\n",
    "print(p)\n",
    "print(alowbest)\n",
    "print(blowbest)\n",
    "print(worst_c(p,alowbest,blowbest,alpha = 0.001, iterations = 1000))"
   ]
  },
  {
   "cell_type": "code",
   "execution_count": 88,
   "metadata": {},
   "outputs": [
    {
     "name": "stdout",
     "output_type": "stream",
     "text": [
      "0.950377286873342\n",
      "1.5003964289113132\n"
     ]
    }
   ],
   "source": [
    "print(loss(p,alowbest,blowbest))\n",
    "print(L_minus_sum_RHS(p,alowbest,blowbest))"
   ]
  },
  {
   "cell_type": "code",
   "execution_count": 89,
   "metadata": {},
   "outputs": [
    {
     "name": "stdout",
     "output_type": "stream",
     "text": [
      "[-0.01010377 -0.00987949 -0.01275103]\n",
      "False\n"
     ]
    }
   ],
   "source": [
    "c = worst_c(p,alowbest,blowbest, alpha = 0.001, iterations = 10000)\n",
    "print(c)\n",
    "print(LHS_minus_RHS(p,alowbest,blowbest, c))"
   ]
  },
  {
   "cell_type": "code",
   "execution_count": 92,
   "metadata": {},
   "outputs": [
    {
     "name": "stdout",
     "output_type": "stream",
     "text": [
      "0.19580659561702451\n",
      "0.19550451117822476\n"
     ]
    }
   ],
   "source": [
    "a = [.3301,.3857,0.8761]\n",
    "b = [.3766,.4139,.991]\n",
    "p = [0.3, 0.3, 0.4]\n",
    "c = worst_c(p,a,b,alpha = 0.001, iterations = 1000)\n",
    "print(LHS_minus_RHS(p,a,b,c))\n",
    "print(LHS_minus_RHS(p,[.3301,.3857,bsearch(0.8761,0.991)],[.3766,.4139,bsearch(0.8761,0.991)],c))"
   ]
  },
  {
   "cell_type": "code",
   "execution_count": 145,
   "metadata": {},
   "outputs": [],
   "source": [
    "for i in range (1000):\n",
    "    a1 = random.randint(1, 99)/100\n",
    "    a2 = random.randint(1, 99)/100\n",
    "    a3 = random.randint(1, 99)/100\n",
    "    b1 = random.randint(1, 99)/100\n",
    "    b2 = random.randint(1, 99)/100\n",
    "    b3 = random.randint(1, 99)/100\n",
    "    a = [a1,a2,a3]\n",
    "    b = [b1,b2,b3]\n",
    "    p = [0.3,0.3,0.4]\n",
    "    c = worst_c(p,a,b, alpha = 0.001, iterations = 100)\n",
    "    if (LHS_minus_RHS(p,a,b,c) == False):\n",
    "        print(p)\n",
    "        print(a)\n",
    "        print(b)\n",
    "        print(c)\n",
    "        print(loss(p,a,b))\n",
    "        print()\n",
    "        break"
   ]
  },
  {
   "cell_type": "code",
   "execution_count": 144,
   "metadata": {},
   "outputs": [
    {
     "name": "stdout",
     "output_type": "stream",
     "text": [
      "[-0.0159879  -0.00525231 -0.00891165]\n"
     ]
    },
    {
     "data": {
      "text/plain": [
       "0.4083863129993883"
      ]
     },
     "execution_count": 144,
     "metadata": {},
     "output_type": "execute_result"
    }
   ],
   "source": [
    "c=worst_c(p,a,b, alpha = 0.001, iterations = 100)\n",
    "print(c)\n",
    "LHS_minus_RHS(p,a,b,c)"
   ]
  },
  {
   "cell_type": "code",
   "execution_count": null,
   "metadata": {},
   "outputs": [],
   "source": []
  }
 ],
 "metadata": {
  "kernelspec": {
   "display_name": "Python 3",
   "language": "python",
   "name": "python3"
  },
  "language_info": {
   "codemirror_mode": {
    "name": "ipython",
    "version": 3
   },
   "file_extension": ".py",
   "mimetype": "text/x-python",
   "name": "python",
   "nbconvert_exporter": "python",
   "pygments_lexer": "ipython3",
   "version": "3.7.4"
  }
 },
 "nbformat": 4,
 "nbformat_minor": 4
}
