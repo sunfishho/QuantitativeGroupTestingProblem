{
 "cells": [
  {
   "cell_type": "code",
   "execution_count": 45,
   "metadata": {},
   "outputs": [],
   "source": [
    "import numpy as np\n",
    "import math\n",
    "from itertools import product\n",
    "#computes the entropy of a probability distribution given a list of probabilities \"probabilities\"\n",
    "def H(probabilities):\n",
    "    sum = 0.0\n",
    "    for i in probabilities:\n",
    "        if (i <= 0 and i>= -0.01):\n",
    "            sum += 0\n",
    "        else:\n",
    "            sum -= i * math.log2(i)\n",
    "    return sum"
   ]
  },
  {
   "cell_type": "code",
   "execution_count": 4,
   "metadata": {},
   "outputs": [
    {
     "data": {
      "text/plain": [
       "0.4689955935892812"
      ]
     },
     "execution_count": 4,
     "metadata": {},
     "output_type": "execute_result"
    }
   ],
   "source": [
    "H([0.1, 0.9])"
   ]
  },
  {
   "cell_type": "code",
   "execution_count": 335,
   "metadata": {},
   "outputs": [],
   "source": [
    "#computes the objective function given numpy arrays p, a, b\n",
    "def loss(p, a, b):\n",
    "    n = len(np.atleast_1d(p))\n",
    "    sum = 0\n",
    "    for i in range(n):\n",
    "        sum += p[i] * (H([a[i], 1 - a[i]]) + H([b[i], 1 - b[i]]))\n",
    "    return sum"
   ]
  },
  {
   "cell_type": "code",
   "execution_count": 6,
   "metadata": {},
   "outputs": [],
   "source": [
    "def h(x):\n",
    "    return H([x, 1-x])"
   ]
  },
  {
   "cell_type": "code",
   "execution_count": 7,
   "metadata": {},
   "outputs": [
    {
     "data": {
      "text/plain": [
       "0.4689955935892812"
      ]
     },
     "execution_count": 7,
     "metadata": {},
     "output_type": "execute_result"
    }
   ],
   "source": [
    "h(0.1)"
   ]
  },
  {
   "cell_type": "code",
   "execution_count": 8,
   "metadata": {},
   "outputs": [],
   "source": [
    "def L(x):\n",
    "    return h(x) + 1 - x"
   ]
  },
  {
   "cell_type": "code",
   "execution_count": 336,
   "metadata": {},
   "outputs": [],
   "source": [
    "# This computes the left hand side of the inequality in the conditions, given numpy arrays p, a, b, c (outdated)\n",
    "def oldLHS(p, a, b, c):\n",
    "    n = len(np.atleast_1d(p))\n",
    "    sum1 = 0\n",
    "    sum2 = 0\n",
    "    sum3 = 0\n",
    "    for i in range(n):\n",
    "        sum1 += p[i] * (a[i] * b[i] - c[i])\n",
    "        sum2 += p[i] * (a[i] * (1 - b[i]) + (1 - a[i]) * b[i] + 2 * c[i])\n",
    "        sum3 += p[i] * ((1 - a[i]) * (1 - b[i]) - c[i])\n",
    "    return H([sum1, sum2, sum3])"
   ]
  },
  {
   "cell_type": "code",
   "execution_count": 337,
   "metadata": {},
   "outputs": [],
   "source": [
    "def LHS(p, a, b, c):\n",
    "    n = len(np.atleast_1d(p))\n",
    "    sum = 0\n",
    "    for i in range(n):\n",
    "        sum += (p[i] * (a[i] * (1 - b[i]) + b[i] * (1 - a[i]) + 2 * c[i]))\n",
    "    if (sum < 0 or sum > 1):\n",
    "        return False\n",
    "    return L(sum)"
   ]
  },
  {
   "cell_type": "code",
   "execution_count": 353,
   "metadata": {},
   "outputs": [],
   "source": [
    "# This computes the right hand side of the inequality in the conditions, given numpy arrays p, a, b, c\n",
    "\n",
    "def RHS(p, a, b, c):\n",
    "    entropy_sum = 0\n",
    "    n = len(np.atleast_1d(p))\n",
    "#     print(a)\n",
    "#     print(b)\n",
    "#     print(c)\n",
    "    for i in range(n):\n",
    "        if ((a[i] * b[i] - c[i]) < 0 or (a[i] * (1 - b[i]) + c[i]) < 0 or (b[i] * (1 - a[i]) + c[i]) < 0 or ((1 - a[i]) * (1 - b[i]) + c[i]) < 0):\n",
    "            return False\n",
    "\n",
    "    for i in range(n):\n",
    "        entropy = H([a[i] * b[i] - c[i], a[i] * (1 - b[i]) + c[i], (1 - a[i]) * b[i] + c[i], (1 - a[i]) * (1 - b[i]) - c[i]])\n",
    "        entropy_sum += p[i] * entropy\n",
    "    return entropy_sum"
   ]
  },
  {
   "cell_type": "code",
   "execution_count": 339,
   "metadata": {},
   "outputs": [],
   "source": [
    "# This computes quantity to minimize for each value of c, given numpy arrays p, a, b, c\n",
    "\n",
    "def LHS_minus_RHS(p, a, b, c):\n",
    "    if (LHS(p,a,b,c) == False or RHS(p,a,b,c) == False):\n",
    "        return False\n",
    "    return LHS(p, a, b, c) - RHS(p, a, b, c)"
   ]
  },
  {
   "cell_type": "code",
   "execution_count": 340,
   "metadata": {},
   "outputs": [],
   "source": [
    "#Uses gradient descent to find the worst values of c possible\n",
    "\n",
    "def worst_c(p, a, b, alpha, iterations):\n",
    "    n = len(np.atleast_1d(p))\n",
    "    c = np.zeros(n, dtype = float)\n",
    "    for i in range(iterations):\n",
    "        for j in range(n):\n",
    "            cplus = list(c)\n",
    "            cplus[j] += 0.001\n",
    "            cminus = list(c)\n",
    "            cminus[j] -=  0.001\n",
    "            dxdc = (LHS_minus_RHS(p, a, b, cplus) - LHS_minus_RHS(p, a, b, cminus))/.002\n",
    "            c[j] -= dxdc * alpha\n",
    "        for j in range(n):\n",
    "            if (a[j] * b[j] - c[j] < 0 or a[j] * (1 - b[j]) + c[j] < 0 or b[j] * (1 - a[j]) + c[j] < 0 or (1 - a[j]) * (1 - b[j]) + c[j] < 0):\n",
    "                c += dxdc * alpha\n",
    "                return c\n",
    "            \n",
    "    return c"
   ]
  },
  {
   "cell_type": "code",
   "execution_count": 293,
   "metadata": {},
   "outputs": [
    {
     "name": "stdout",
     "output_type": "stream",
     "text": [
      "-0.18787224446955308\n",
      "[-0.00598564  0.03217907  0.0057064 ]\n",
      "CPU times: user 11.5 ms, sys: 795 µs, total: 12.2 ms\n",
      "Wall time: 11.5 ms\n"
     ]
    }
   ],
   "source": [
    "%%time\n",
    "p = np.array((1.0/3, 1.0/3, 1.0/3))\n",
    "atest = np.array((0.2, 0.5, 0.2))\n",
    "btest = np.array((0.3, 0.3, 0.4))\n",
    "c = worst_c(p, atest, btest, alpha = 0.01, iterations = 10)\n",
    "# c = np.array((1,1,1))\n",
    "print(LHS_minus_RHS(p, atest, btest, c))\n",
    "print(c)"
   ]
  },
  {
   "cell_type": "code",
   "execution_count": 267,
   "metadata": {},
   "outputs": [
    {
     "name": "stdout",
     "output_type": "stream",
     "text": [
      "-0.1504782038516299\n",
      "[-0.00624847  0.03743791  0.00728268]\n",
      "CPU times: user 627 ms, sys: 4.07 ms, total: 631 ms\n",
      "Wall time: 637 ms\n"
     ]
    }
   ],
   "source": [
    "%%time\n",
    "p = np.array((0.05, 0.05, 0.9))\n",
    "atest = np.array((0.2, 0.5, 0.2))\n",
    "btest = np.array((0.3, 0.3, 0.4))\n",
    "c = worst_c(p, atest, btest, alpha = 0.001, iterations = 1000)\n",
    "# c = np.array((1,1,1))\n",
    "print(LHS_minus_RHS(p, atest, btest, c))\n",
    "print(c)"
   ]
  },
  {
   "cell_type": "code",
   "execution_count": 358,
   "metadata": {},
   "outputs": [
    {
     "name": "stdout",
     "output_type": "stream",
     "text": [
      "[-0.0064139  -0.00641393 -0.00641393]\n",
      "0.31797672384634895\n",
      "1.271907241922548\n"
     ]
    }
   ],
   "source": [
    "# Ignore for now\n",
    "#There are issues when a * (1-b) is very close to 0\n",
    "a = np.array((0.2, 0.2, 0.2))\n",
    "b = np.array((0.2, 0.2, 0.2))\n",
    "p = np.array((0.2, 0.4, 0.4))\n",
    "c = worst_c(p, a, b, alpha = 0.001, iterations = 10000 )\n",
    "print(c)\n",
    "sumLHS1 = 0\n",
    "sumLHS2 = 0\n",
    "sumLHS3 = 0\n",
    "for i in range(3):\n",
    "    sumLHS1 += (p[i] * (a[i] * b[i] - c[i]))\n",
    "    sumLHS2 += (p[i] * ((1 - a[i]) * (1 - b[i]) - c[i]))\n",
    "    sumLHS3 += (p[i] * (a[i] * (1 - b[i]) + b[i] * (1 - a[i]) + 2 * c[i]))\n",
    "LHSval = sumLHS1 * sumLHS2 / (sumLHS3 * sumLHS3)\n",
    "# print(sumLHS1)\n",
    "# print(sumLHS2)\n",
    "# print(sumLHS3)\n",
    "print(LHSval)\n",
    "x = 2\n",
    "\n",
    "RHSval = (a[x] * b[x] - c[x]) * ((1 - a[x]) * (1 - b[x]) - c[x])/(((1 - a[x]) * b[x] + c[x]) * ((1 - b[x]) * a[x] + c[x]))\n",
    "print(RHSval)"
   ]
  },
  {
   "cell_type": "code",
   "execution_count": 306,
   "metadata": {},
   "outputs": [
    {
     "name": "stdout",
     "output_type": "stream",
     "text": [
      "1.5723829967913763\n",
      "CPU times: user 11min 4s, sys: 8.85 s, total: 11min 13s\n",
      "Wall time: 12min 22s\n"
     ]
    }
   ],
   "source": [
    "# %%time\n",
    "# #DO NOT RUN THIS YET, EVERYTHING ELSE NEEDS TO BE FIXED FIRST\n",
    "\n",
    "# x = np.linspace(0.0, 0.5, num = 6)\n",
    "# ptest = np.array((1.0/3, 1.0/3, 1.0/3))\n",
    "# maxloss = 0.0\n",
    "# pbest = 0\n",
    "# abest = 0\n",
    "# bbest = 0\n",
    "# cbest = 0\n",
    "\n",
    "# acheck = 0\n",
    "# bcheck = 0\n",
    "\n",
    "# for (a1, a2, a3, b1, b2, b3) in product(x, x, x, x, x, x):\n",
    "#     a = [a1, a2, a3]\n",
    "#     b = [b1, b2, b3]\n",
    "#     c = worst_c(ptest, a, b, alpha = 0.01, iterations = 10)\n",
    "#     for (p_1, p_2) in product(x, x):\n",
    "#         p_3 = 1 - p_1 - p_2\n",
    "#         if (p_3 < 0):\n",
    "#             continue\n",
    "#         p = [p_1, p_2, p_3]\n",
    "#         if LHS_minus_RHS(p, a, b, c) >= 0:\n",
    "#             if (maxloss < loss(p, a, b)):\n",
    "#                 c = worst_c(p, a, b, alpha = 0.001, iterations = 1000)\n",
    "#                 if LHS_minus_RHS(p, a, b, c) >= 0:\n",
    "#                     pbest = p\n",
    "#                     abest = a\n",
    "#                     bbest = b\n",
    "#                     cbest = c\n",
    "#                     maxloss = loss(p, a, b)\n",
    "# print(maxloss)"
   ]
  },
  {
   "cell_type": "code",
   "execution_count": 307,
   "metadata": {},
   "outputs": [
    {
     "name": "stdout",
     "output_type": "stream",
     "text": [
      "[0.2, 0.2, 0.6000000000000001]\n",
      "[0.0, 0.30000000000000004, 0.30000000000000004]\n",
      "[0.2, 0.4, 0.30000000000000004]\n",
      "[ 0.         -0.00889281 -0.02466034]\n"
     ]
    }
   ],
   "source": [
    "print(pbest)\n",
    "print(abest)\n",
    "print(bbest)\n",
    "print(cbest)"
   ]
  },
  {
   "cell_type": "code",
   "execution_count": 311,
   "metadata": {},
   "outputs": [
    {
     "name": "stdout",
     "output_type": "stream",
     "text": [
      "[0. 0. 0.]\n",
      "4.82001024346701e-05\n"
     ]
    }
   ],
   "source": [
    "\n",
    "c = worst_c(pbest, abest, cbest, alpha = 0.001, iterations = 1000)\n",
    "print(c)\n",
    "print(LHS_minus_RHS(pbest, abest, bbest, cbest))"
   ]
  },
  {
   "cell_type": "code",
   "execution_count": 357,
   "metadata": {},
   "outputs": [
    {
     "name": "stdout",
     "output_type": "stream",
     "text": [
      "[0.01537418 0.01537666]\n"
     ]
    }
   ],
   "source": [
    "a = np.array((0.23684, 0.23684, 0.23684))\n",
    "b = np.array((0.23684, 0.23684, 0.23684))\n",
    "c = np.array((0.0153821919, 0.0153821919, 0.0153821919))\n",
    "p = np.array((0.2, 0.8))\n",
    "print(worst_c(p, a, b, alpha = 0.001, iterations = 1000))"
   ]
  },
  {
   "cell_type": "code",
   "execution_count": 356,
   "metadata": {},
   "outputs": [
    {
     "data": {
      "text/plain": [
       "-8.511719146397922e-06"
      ]
     },
     "execution_count": 356,
     "metadata": {},
     "output_type": "execute_result"
    }
   ],
   "source": [
    "LHS_minus_RHS(p, a, b, worst_c(p, a, b, alpha = 0.001, iterations = 1000))"
   ]
  },
  {
   "cell_type": "code",
   "execution_count": 355,
   "metadata": {},
   "outputs": [
    {
     "data": {
      "text/plain": [
       "-8.512262101856294e-06"
      ]
     },
     "execution_count": 355,
     "metadata": {},
     "output_type": "execute_result"
    }
   ],
   "source": [
    "LHS_minus_RHS(p, a, b, c)"
   ]
  },
  {
   "cell_type": "code",
   "execution_count": 350,
   "metadata": {},
   "outputs": [
    {
     "data": {
      "text/plain": [
       "1.5739832616659277"
      ]
     },
     "execution_count": 350,
     "metadata": {},
     "output_type": "execute_result"
    }
   ],
   "source": [
    "LHS(p, a, b, c)"
   ]
  },
  {
   "cell_type": "code",
   "execution_count": 354,
   "metadata": {},
   "outputs": [
    {
     "data": {
      "text/plain": [
       "1.5739917739280296"
      ]
     },
     "execution_count": 354,
     "metadata": {},
     "output_type": "execute_result"
    }
   ],
   "source": [
    "RHS(p, a, b, c)"
   ]
  },
  {
   "cell_type": "code",
   "execution_count": null,
   "metadata": {},
   "outputs": [],
   "source": []
  }
 ],
 "metadata": {
  "kernelspec": {
   "display_name": "Python 3",
   "language": "python",
   "name": "python3"
  },
  "language_info": {
   "codemirror_mode": {
    "name": "ipython",
    "version": 3
   },
   "file_extension": ".py",
   "mimetype": "text/x-python",
   "name": "python",
   "nbconvert_exporter": "python",
   "pygments_lexer": "ipython3",
   "version": "3.7.4"
  }
 },
 "nbformat": 4,
 "nbformat_minor": 4
}
